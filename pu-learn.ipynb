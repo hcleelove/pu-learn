{
 "cells": [
  {
   "cell_type": "code",
   "execution_count": null,
   "id": "c0f57da5",
   "metadata": {},
   "outputs": [],
   "source": [
    "import pandas as pd \n",
    "import numpy as np \n",
    "import matplotlib.pyplot as plt \n",
    "%matplotlib inline\n",
    "plt.rcParams['figure.figsize'] = 7,7 \n",
    "plt.rcParams['font.size'] = 14 \n",
    "#确定画布"
   ]
  },
  {
   "cell_type": "code",
   "execution_count": null,
   "id": "2d2f4b25",
   "metadata": {},
   "outputs": [],
   "source": [
    " data = pd.read_csv('PU_kss.csv', header=None)\n",
    "#data=pd.DataFrame(data, columns = ['feature1','feature2'])\n",
    "data.columns = ['feature1','feature2']\n",
    "data_y = pd.read_csv('kss01.csv', header=None)\n",
    "#data=pd.DataFrame(data, columns = ['feature1','feature2'])\n",
    "#data.columns = ['feature1','feature2']\n"
   ]
  },
  {
   "cell_type": "code",
   "execution_count": null,
   "id": "ad47b27f",
   "metadata": {},
   "outputs": [],
   "source": [
    "print(data.shape)\n",
    "data.head(10)\n",
    "#看看数据"
   ]
  },
  {
   "cell_type": "code",
   "execution_count": null,
   "id": "cb97a3df",
   "metadata": {},
   "outputs": [],
   "source": [
    " X=data"
   ]
  },
  {
   "cell_type": "code",
   "execution_count": null,
   "id": "521fee6e",
   "metadata": {},
   "outputs": [],
   "source": [
    "y=data_y.iloc[:,0]"
   ]
  },
  {
   "cell_type": "code",
   "execution_count": null,
   "id": "f333e85f",
   "metadata": {},
   "outputs": [],
   "source": [
    "# 看看数据类型\n",
    "print('%d data points and %d features' % (X.shape))\n",
    "print('%d positive out of %d total' % (sum(y), len(y)))\n"
   ]
  },
  {
   "cell_type": "code",
   "execution_count": null,
   "id": "c1ad2a90",
   "metadata": {},
   "outputs": [],
   "source": [
    "y_orig = y.copy()\n",
    "hidden_size = 20\n",
    "y.loc[\n",
    "np.random.choice(\n",
    "y[y == 1].index,\n",
    "replace = False,\n",
    "size = hidden_size\n",
    ")\n",
    "] = 0\n",
    "#保护住这些数据不训练\n",
    "print('%d positive out of %d total' % (sum(y), len(y)))\n"
   ]
  },
  {
   "cell_type": "code",
   "execution_count": null,
   "id": "649269ea",
   "metadata": {},
   "outputs": [],
   "source": [
    "plt.scatter(\n",
    "X[y==0].feature1, X[y==0].feature1,\n",
    "c='k', marker='.', linewidth=1, s=10, alpha=0.5,\n",
    "label='Unlabeled'\n",
    ")\n",
    "'''\n",
    "plt.scatter(\n",
    "X[y==0].feature1, X[y==0].feature2,\n",
    "c='k', marker='.', linewidth=1, s=10, alpha=0.5,\n",
    "label='Unlabeled'\n",
    ")\n",
    "'''\n",
    "plt.scatter(\n",
    "X[y==1].feature1, X[y==1].feature1,\n",
    "c='b', marker='o', linewidth=0, s=50, alpha=0.5,\n",
    "label='Positive'\n",
    ")\n",
    "plt.legend()\n",
    "plt.title('Data set (as seen by the classifiers)')\n",
    "plt.show()\n"
   ]
  },
  {
   "cell_type": "code",
   "execution_count": null,
   "id": "a5c2574f",
   "metadata": {},
   "outputs": [],
   "source": [
    "from sklearn.ensemble import RandomForestClassifier# 随机森林库\n",
    "rf = RandomForestClassifier(\n",
    "n_estimators = 1000, \n",
    "n_jobs = -1 \n",
    ")\n",
    "rf.fit(X, y)\n",
    "\n",
    "results = pd.DataFrame({\n",
    "'truth' : y_orig,\n",
    "4\n",
    "'label' : y,\n",
    "'output_std' : rf.predict_proba(X)[:,1] \n",
    "}, columns = ['truth', 'label', 'output_std'])\n"
   ]
  },
  {
   "cell_type": "code",
   "execution_count": null,
   "id": "965c1bca",
   "metadata": {},
   "outputs": [],
   "source": [
    "plt.rcParams['figure.figsize'] = 9,7\n",
    "plt.scatter(\n",
    "X[y==0].feature1, X[y==0].feature1, # X[y==0].feature1, X[y==0].\n",
    "↪feature2,\n",
    "c = results[y==0].output_std, linewidth = 0, s = 50, alpha = 0.5,\n",
    "cmap = 'jet_r'\n",
    ")\n",
    "plt.colorbar(label='Scores given to unlabeled points')\n",
    "plt.title('Standard classifier')\n",
    "plt.show()"
   ]
  },
  {
   "cell_type": "code",
   "execution_count": null,
   "id": "5c2c8f02",
   "metadata": {},
   "outputs": [],
   "source": []
  },
  {
   "cell_type": "code",
   "execution_count": null,
   "id": "be81d847",
   "metadata": {},
   "outputs": [],
   "source": []
  },
  {
   "cell_type": "code",
   "execution_count": null,
   "id": "08965d91",
   "metadata": {},
   "outputs": [],
   "source": []
  }
 ],
 "metadata": {
  "kernelspec": {
   "display_name": "Python 3 (ipykernel)",
   "language": "python",
   "name": "python3"
  },
  "language_info": {
   "codemirror_mode": {
    "name": "ipython",
    "version": 3
   },
   "file_extension": ".py",
   "mimetype": "text/x-python",
   "name": "python",
   "nbconvert_exporter": "python",
   "pygments_lexer": "ipython3",
   "version": "3.9.7"
  }
 },
 "nbformat": 4,
 "nbformat_minor": 5
}
